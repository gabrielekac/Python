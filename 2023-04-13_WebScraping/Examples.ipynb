{
 "cells": [
  {
   "cell_type": "code",
   "execution_count": 1,
   "id": "034f3b91",
   "metadata": {},
   "outputs": [],
   "source": [
    "# import requests\n",
    "\n",
    "# response = requests.get(\"https://www.ecb.europa.eu/home/html/index.en.html\")\n"
   ]
  },
  {
   "cell_type": "code",
   "execution_count": 6,
   "id": "18489bd0",
   "metadata": {},
   "outputs": [],
   "source": [
    "from bs4 import BeautifulSoup\n",
    "\n",
    "# soup = BeautifulSoup(response.content,\"html.parser\")\n",
    "\n",
    "with open(\"European Central Bank.html\",\"r\") as f:\n",
    "    data_html = f.read()\n",
    "\n",
    "soup = BeautifulSoup(data_html,\"html.parser\")"
   ]
  },
  {
   "cell_type": "code",
   "execution_count": 3,
   "id": "ab22e880",
   "metadata": {},
   "outputs": [],
   "source": [
    "# with open(\"testpage.html\",\"w\") as f:\n",
    "#     f.write(str(soup))"
   ]
  },
  {
   "cell_type": "code",
   "execution_count": 4,
   "id": "0595feea",
   "metadata": {},
   "outputs": [],
   "source": [
    "# Downloaded data from the website\n",
    "# html contents should look similar"
   ]
  },
  {
   "cell_type": "code",
   "execution_count": 8,
   "id": "c0d368a4",
   "metadata": {},
   "outputs": [],
   "source": [
    "element = soup.find(class_=\"content-box\")"
   ]
  },
  {
   "cell_type": "code",
   "execution_count": 9,
   "id": "3c547f54",
   "metadata": {},
   "outputs": [
    {
     "data": {
      "text/plain": [
       "<div class=\"content-box\"><div class=\"definition-list\"><dl><dt isodate=\"2023-04-12\"><div class=\"date\">12 April 2023</div></dt><dd><div class=\"category\">WEEKLY FINANCIAL STATEMENT - COMMENTARY</div><div class=\"title\"><a href=\"https://www.ecb.europa.eu/press/pr/wfs/2023/html/ecb.fs230412.en.html\">Commentary</a></div><div class=\"ecb-langSelector\"><span class=\"offeredLanguage\"><a class=\"arrow\" href=\"https://www.ecb.europa.eu/press/pr/wfs/2023/html/ecb.fs230412.en.html\" lang=\"en\">\n",
       "<span class=\"ecb-full\">English</span></a></span></div></dd></dl></div></div>"
      ]
     },
     "execution_count": 9,
     "metadata": {},
     "output_type": "execute_result"
    }
   ],
   "source": [
    "element"
   ]
  },
  {
   "cell_type": "code",
   "execution_count": null,
   "id": "2e06504e",
   "metadata": {},
   "outputs": [],
   "source": []
  }
 ],
 "metadata": {
  "kernelspec": {
   "display_name": "Python 3 (ipykernel)",
   "language": "python",
   "name": "python3"
  },
  "language_info": {
   "codemirror_mode": {
    "name": "ipython",
    "version": 3
   },
   "file_extension": ".py",
   "mimetype": "text/x-python",
   "name": "python",
   "nbconvert_exporter": "python",
   "pygments_lexer": "ipython3",
   "version": "3.11.2"
  }
 },
 "nbformat": 4,
 "nbformat_minor": 5
}
