{
 "cells": [
  {
   "cell_type": "code",
   "execution_count": 1,
   "id": "9547af4f",
   "metadata": {},
   "outputs": [],
   "source": [
    "# 1) Using the Web scraping, read the list of the Sovereign States from \n",
    "# https://en.wikipedia.org/wiki/List_of_sovereign_states"
   ]
  },
  {
   "cell_type": "code",
   "execution_count": null,
   "id": "24aa69c0",
   "metadata": {},
   "outputs": [],
   "source": [
    "# Creating an empty dataframe with the desired columns"
   ]
  },
  {
   "cell_type": "code",
   "execution_count": 2,
   "id": "fcb656df",
   "metadata": {},
   "outputs": [],
   "source": [
    "import pandas as pd"
   ]
  },
  {
   "cell_type": "code",
   "execution_count": 3,
   "id": "ae064db7",
   "metadata": {},
   "outputs": [],
   "source": [
    "columns = ['Country', 'Link', 'Description','Status', 'Capital','Total area' ,'Water area %','Population Density','Population - 2022 estimate','Official languages', 'Ethnic groups', 'Religion', 'Demonym', 'Government','GDP (PPP) - total','GDP (PPP) - per capita', 'GDP (nominal) - total','GDP (nominal) - per capita' ,'HDI','Gini' ,'Currency', 'Time zone','Date format', 'Driving side', 'Calling code', 'ISO code', 'Internet TLD']\n",
    "df = pd.DataFrame(columns=columns)"
   ]
  },
  {
   "cell_type": "code",
   "execution_count": 4,
   "id": "6adf5b63",
   "metadata": {},
   "outputs": [],
   "source": [
    "import requests\n",
    "from bs4 import BeautifulSoup\n",
    "import re"
   ]
  },
  {
   "cell_type": "code",
   "execution_count": 5,
   "id": "1f4ca438",
   "metadata": {},
   "outputs": [],
   "source": [
    "# Making a GET request to the Wikipedia page\n",
    "url = 'https://en.wikipedia.org/wiki/List_of_sovereign_states'\n",
    "response = requests.get(url)"
   ]
  },
  {
   "cell_type": "code",
   "execution_count": 6,
   "id": "43b16e44",
   "metadata": {},
   "outputs": [],
   "source": [
    "# Parsing the HTML content using BeautifulSoup\n",
    "soup = BeautifulSoup(response.content, 'html.parser')"
   ]
  },
  {
   "cell_type": "code",
   "execution_count": 7,
   "id": "ce80390d",
   "metadata": {},
   "outputs": [],
   "source": [
    "# Finding the table containing the list of sovereign states\n",
    "table = soup.find(class_ = 'sortable wikitable')"
   ]
  },
  {
   "cell_type": "code",
   "execution_count": 8,
   "id": "a5111d95",
   "metadata": {},
   "outputs": [
    {
     "name": "stdout",
     "output_type": "stream",
     "text": [
      "{'Abkhazia': '/wiki/Abkhazia', 'Afghanistan': '/wiki/Afghanistan', 'Albania': '/wiki/Albania', 'Algeria': '/wiki/Algeria', 'Andorra': '/wiki/Andorra', 'Angola': '/wiki/Angola', 'Antigua and Barbuda': '/wiki/Antigua_and_Barbuda', 'Argentina': '/wiki/Argentina', 'Armenia': '/wiki/Armenia', 'Artsakh': '/wiki/Republic_of_Artsakh', 'Australia': '/wiki/Australia', 'Austria': '/wiki/Austria', 'Azerbaijan': '/wiki/Azerbaijan', 'Bahamas': '/wiki/The_Bahamas', 'Bahrain': '/wiki/Bahrain', 'Bangladesh': '/wiki/Bangladesh', 'Barbados': '/wiki/Barbados', 'Belarus': '/wiki/Belarus', 'Belgium': '/wiki/Belgium', 'Belize': '/wiki/Belize', 'Benin': '/wiki/Benin', 'Bhutan': '/wiki/Bhutan', 'Bolivia': '/wiki/Bolivia', 'Bosnia and Herzegovina': '/wiki/Bosnia_and_Herzegovina', 'Botswana': '/wiki/Botswana', 'Brazil': '/wiki/Brazil', 'Brunei': '/wiki/Brunei', 'Bulgaria': '/wiki/Bulgaria', 'Burkina Faso': '/wiki/Burkina_Faso', 'Burundi': '/wiki/Burundi', 'Cambodia': '/wiki/Cambodia', 'Cameroon': '/wiki/Cameroon', 'Canada': '/wiki/Canada', 'Cape Verde': '/wiki/Cape_Verde', 'Central African Republic': '/wiki/Central_African_Republic', 'Chad': '/wiki/Chad', 'Chile': '/wiki/Chile', 'Colombia': '/wiki/Colombia', 'Comoros': '/wiki/Comoros', 'Congo': '/wiki/Republic_of_the_Congo', 'Cook Islands': '/wiki/Cook_Islands', 'Costa Rica': '/wiki/Costa_Rica', 'Croatia': '/wiki/Croatia', 'Cuba': '/wiki/Cuba', 'Cyprus': '/wiki/Cyprus', 'Czech Republic': '/wiki/Czech_Republic', 'Denmark': '/wiki/Danish_Realm', 'Djibouti': '/wiki/Djibouti', 'Dominica': '/wiki/Dominica', 'Dominican Republic': '/wiki/Dominican_Republic', 'East Timor': '/wiki/East_Timor', 'Ecuador': '/wiki/Ecuador', 'Egypt': '/wiki/Egypt', 'El Salvador': '/wiki/El_Salvador', 'Equatorial Guinea': '/wiki/Equatorial_Guinea', 'Eritrea': '/wiki/Eritrea', 'Estonia': '/wiki/Estonia', 'Eswatini': '/wiki/Eswatini', 'Ethiopia': '/wiki/Ethiopia', 'Fiji': '/wiki/Fiji', 'Finland': '/wiki/Finland', 'France': '/wiki/France', 'Gabon': '/wiki/Gabon', 'Gambia': '/wiki/The_Gambia', 'Georgia': '/wiki/Georgia_(country)', 'Germany': '/wiki/Germany', 'Ghana': '/wiki/Ghana', 'Greece': '/wiki/Greece', 'Grenada': '/wiki/Grenada', 'Guatemala': '/wiki/Guatemala', 'Guinea': '/wiki/Guinea', 'Guinea-Bissau': '/wiki/Guinea-Bissau', 'Guyana': '/wiki/Guyana', 'Haiti': '/wiki/Haiti', 'Honduras': '/wiki/Honduras', 'Hungary': '/wiki/Hungary', 'Iceland': '/wiki/Iceland', 'India': '/wiki/India', 'Indonesia': '/wiki/Indonesia', 'Iran': '/wiki/Iran', 'Iraq': '/wiki/Iraq', 'Ireland': '/wiki/Republic_of_Ireland', 'Israel': '/wiki/Israel', 'Italy': '/wiki/Italy', 'Ivory Coast': '/wiki/Ivory_Coast', 'Jamaica': '/wiki/Jamaica', 'Japan': '/wiki/Japan', 'Jordan': '/wiki/Jordan', 'Kazakhstan': '/wiki/Kazakhstan', 'Kenya': '/wiki/Kenya', 'Kiribati': '/wiki/Kiribati', 'Korea': '/wiki/South_Korea', 'Kosovo': '/wiki/Kosovo', 'Kuwait': '/wiki/Kuwait', 'Kyrgyzstan': '/wiki/Kyrgyzstan', 'Laos': '/wiki/Laos', 'Latvia': '/wiki/Latvia', 'Lebanon': '/wiki/Lebanon', 'Lesotho': '/wiki/Lesotho', 'Liberia': '/wiki/Liberia', 'Libya': '/wiki/Libya', 'Liechtenstein': '/wiki/Liechtenstein', 'Lithuania': '/wiki/Lithuania', 'Luxembourg': '/wiki/Luxembourg', 'Madagascar': '/wiki/Madagascar', 'Malawi': '/wiki/Malawi', 'Malaysia': '/wiki/Malaysia', 'Maldives': '/wiki/Maldives', 'Mali': '/wiki/Mali', 'Malta': '/wiki/Malta', 'Marshall Islands': '/wiki/Marshall_Islands', 'Mauritania': '/wiki/Mauritania', 'Mauritius': '/wiki/Mauritius', 'Mexico': '/wiki/Mexico', 'Micronesia': '/wiki/Federated_States_of_Micronesia', 'Moldova': '/wiki/Moldova', 'Monaco': '/wiki/Monaco', 'Mongolia': '/wiki/Mongolia', 'Montenegro': '/wiki/Montenegro', 'Morocco': '/wiki/Morocco', 'Mozambique': '/wiki/Mozambique', 'Myanmar': '/wiki/Myanmar', 'Namibia': '/wiki/Namibia', 'Nauru': '/wiki/Nauru', 'Nepal': '/wiki/Nepal', 'Netherlands': '/wiki/Kingdom_of_the_Netherlands', 'New Zealand': '/wiki/New_Zealand', 'Nicaragua': '/wiki/Nicaragua', 'Niger': '/wiki/Niger', 'Nigeria': '/wiki/Nigeria', 'Niue': '/wiki/Niue', 'North Macedonia': '/wiki/North_Macedonia', 'Northern Cyprus': '/wiki/Northern_Cyprus', 'Norway': '/wiki/Norway', 'Oman': '/wiki/Oman', 'Pakistan': '/wiki/Pakistan', 'Palau': '/wiki/Palau', 'Palestine': '/wiki/State_of_Palestine', 'Panama': '/wiki/Panama', 'Papua New Guinea': '/wiki/Papua_New_Guinea', 'Paraguay': '/wiki/Paraguay', 'Peru': '/wiki/Peru', 'Philippines': '/wiki/Philippines', 'Poland': '/wiki/Poland', 'Portugal': '/wiki/Portugal', 'Qatar': '/wiki/Qatar', 'Romania': '/wiki/Romania', 'Russia': '/wiki/Russia', 'Rwanda': '/wiki/Rwanda', 'Sahrawi Arab Democratic Republic': '/wiki/Sahrawi_Arab_Democratic_Republic', 'Saint Kitts and Nevis': '/wiki/Saint_Kitts_and_Nevis', 'Saint Lucia': '/wiki/Saint_Lucia', 'Saint Vincent and the Grenadines': '/wiki/Saint_Vincent_and_the_Grenadines', 'Samoa': '/wiki/Samoa', 'San Marino': '/wiki/San_Marino', 'São Tomé and Príncipe': '/wiki/S%C3%A3o_Tom%C3%A9_and_Pr%C3%ADncipe', 'Saudi Arabia': '/wiki/Saudi_Arabia', 'Senegal': '/wiki/Senegal', 'Serbia': '/wiki/Serbia', 'Seychelles': '/wiki/Seychelles', 'Sierra Leone': '/wiki/Sierra_Leone', 'Singapore': '/wiki/Singapore', 'Slovakia': '/wiki/Slovakia', 'Slovenia': '/wiki/Slovenia', 'Solomon Islands': '/wiki/Solomon_Islands', 'Somalia': '/wiki/Somalia', 'Somaliland': '/wiki/Somaliland', 'South Africa': '/wiki/South_Africa', 'South Ossetia': '/wiki/South_Ossetia', 'South Sudan': '/wiki/South_Sudan', 'Spain': '/wiki/Spain', 'Sri Lanka': '/wiki/Sri_Lanka', 'Suriname': '/wiki/Suriname', 'Sweden': '/wiki/Sweden', 'Switzerland': '/wiki/Switzerland', 'Syria': '/wiki/Syria', 'Tajikistan': '/wiki/Tajikistan', 'Tanzania': '/wiki/Tanzania', 'Thailand': '/wiki/Thailand', 'Togo': '/wiki/Togo', 'Tonga': '/wiki/Tonga', 'Transnistria': '/wiki/Transnistria', 'Trinidad and Tobago': '/wiki/Trinidad_and_Tobago', 'Tunisia': '/wiki/Tunisia', 'Turkey': '/wiki/Turkey', 'Turkmenistan': '/wiki/Turkmenistan', 'Tuvalu': '/wiki/Tuvalu', 'Uganda': '/wiki/Uganda', 'Ukraine': '/wiki/Ukraine', 'United Arab Emirates': '/wiki/United_Arab_Emirates', 'United Kingdom': '/wiki/United_Kingdom', 'United States': '/wiki/United_States', 'Uruguay': '/wiki/Uruguay', 'Uzbekistan': '/wiki/Uzbekistan', 'Vanuatu': '/wiki/Vanuatu', 'Vatican City': '/wiki/Vatican_City', 'Venezuela': '/wiki/Venezuela', 'Vietnam': '/wiki/Vietnam', 'Yemen': '/wiki/Yemen', 'Zambia': '/wiki/Zambia', 'Zimbabwe': '/wiki/Zimbabwe', 'Taiwan': '/wiki/Taiwan'}\n"
     ]
    }
   ],
   "source": [
    "# Extracting the names of the countries and their corresponding href links\n",
    "countries = {}\n",
    "for row in table.find_all('tr')[3:]:\n",
    "    cells = row.find_all('td')\n",
    "\n",
    "    names = cells[0].text\n",
    "    name = re.split(r\"\\s*[→–]\\s*\", names)[0]\n",
    "    name = name.split(\",\")[0]\n",
    "    name = name.split(\"[\")[0]\n",
    "    name = name.replace(\"ZZZ\",\"\").replace(\"\\xa0\",\"\").replace(\"\\n\",\"\")\n",
    "    \n",
    "    link = cells[0].find('a')\n",
    "    if link is not None:\n",
    "            link = link['href']\n",
    "            countries[name] = link\n",
    "\n",
    "\n",
    "countries = {k: v for k, v in countries.items() if not v.startswith('#')}\n",
    "del countries['↑ UN member states and General Assembly observer states ↑']\n",
    "print(countries)"
   ]
  },
  {
   "cell_type": "code",
   "execution_count": 13,
   "id": "90117c45",
   "metadata": {},
   "outputs": [
    {
     "ename": "AttributeError",
     "evalue": "'DataFrame' object has no attribute 'append'",
     "output_type": "error",
     "traceback": [
      "\u001b[0;31m---------------------------------------------------------------------------\u001b[0m",
      "\u001b[0;31mAttributeError\u001b[0m                            Traceback (most recent call last)",
      "Cell \u001b[0;32mIn[13], line 125\u001b[0m\n\u001b[1;32m    122\u001b[0m             internet_tld \u001b[38;5;241m=\u001b[39m data\u001b[38;5;241m.\u001b[39mtext\u001b[38;5;241m.\u001b[39mstrip()\n\u001b[1;32m    124\u001b[0m \u001b[38;5;66;03m# Append the extracted information to the dataframe\u001b[39;00m\n\u001b[0;32m--> 125\u001b[0m     df \u001b[38;5;241m=\u001b[39m \u001b[43mdf\u001b[49m\u001b[38;5;241;43m.\u001b[39;49m\u001b[43mappend\u001b[49m({\n\u001b[1;32m    126\u001b[0m             \u001b[38;5;124m'\u001b[39m\u001b[38;5;124mCountry\u001b[39m\u001b[38;5;124m'\u001b[39m: key,\n\u001b[1;32m    127\u001b[0m             \u001b[38;5;124m'\u001b[39m\u001b[38;5;124mLink\u001b[39m\u001b[38;5;124m'\u001b[39m: \u001b[38;5;124m'\u001b[39m\u001b[38;5;124mhttps://en.wikipedia.org\u001b[39m\u001b[38;5;124m'\u001b[39m \u001b[38;5;241m+\u001b[39m value,\n\u001b[1;32m    128\u001b[0m             \u001b[38;5;124m'\u001b[39m\u001b[38;5;124mStatus\u001b[39m\u001b[38;5;124m'\u001b[39m: status,\n\u001b[1;32m    129\u001b[0m             \u001b[38;5;124m'\u001b[39m\u001b[38;5;124mCapital\u001b[39m\u001b[38;5;124m'\u001b[39m: capital,\n\u001b[1;32m    130\u001b[0m             \u001b[38;5;124m'\u001b[39m\u001b[38;5;124mOfficial languages\u001b[39m\u001b[38;5;124m'\u001b[39m: languages,\n\u001b[1;32m    131\u001b[0m             \u001b[38;5;124m'\u001b[39m\u001b[38;5;124mEthnic groups\u001b[39m\u001b[38;5;124m'\u001b[39m: ethnic_groups,\n\u001b[1;32m    132\u001b[0m             \u001b[38;5;124m'\u001b[39m\u001b[38;5;124mReligion\u001b[39m\u001b[38;5;124m'\u001b[39m: religion,\n\u001b[1;32m    133\u001b[0m             \u001b[38;5;124m'\u001b[39m\u001b[38;5;124mDemonym\u001b[39m\u001b[38;5;124m'\u001b[39m: demonym,\n\u001b[1;32m    134\u001b[0m             \u001b[38;5;124m'\u001b[39m\u001b[38;5;124mGovernment\u001b[39m\u001b[38;5;124m'\u001b[39m: government,\n\u001b[1;32m    135\u001b[0m             \u001b[38;5;124m'\u001b[39m\u001b[38;5;124mHDI\u001b[39m\u001b[38;5;124m'\u001b[39m: hdi,\n\u001b[1;32m    136\u001b[0m             \u001b[38;5;124m'\u001b[39m\u001b[38;5;124mCurrency\u001b[39m\u001b[38;5;124m'\u001b[39m: currency,\n\u001b[1;32m    137\u001b[0m             \u001b[38;5;124m'\u001b[39m\u001b[38;5;124mTime zone\u001b[39m\u001b[38;5;124m'\u001b[39m: time_zone,\n\u001b[1;32m    138\u001b[0m             \u001b[38;5;124m'\u001b[39m\u001b[38;5;124mDriving side\u001b[39m\u001b[38;5;124m'\u001b[39m: driving_side,\n\u001b[1;32m    139\u001b[0m             \u001b[38;5;124m'\u001b[39m\u001b[38;5;124mCalling code\u001b[39m\u001b[38;5;124m'\u001b[39m: calling_code,\n\u001b[1;32m    140\u001b[0m             \u001b[38;5;124m'\u001b[39m\u001b[38;5;124mISO 3166 code\u001b[39m\u001b[38;5;124m'\u001b[39m: iso_code,\n\u001b[1;32m    141\u001b[0m             \u001b[38;5;124m'\u001b[39m\u001b[38;5;124mInternet TLD\u001b[39m\u001b[38;5;124m'\u001b[39m: internet_tld,\n\u001b[1;32m    142\u001b[0m             \u001b[38;5;124m'\u001b[39m\u001b[38;5;124mTotal area\u001b[39m\u001b[38;5;124m'\u001b[39m : total_area,\n\u001b[1;32m    143\u001b[0m             \u001b[38;5;124m'\u001b[39m\u001b[38;5;124mWater area \u001b[39m\u001b[38;5;124m%\u001b[39m\u001b[38;5;124m'\u001b[39m : water,\n\u001b[1;32m    144\u001b[0m             \u001b[38;5;124m'\u001b[39m\u001b[38;5;124mPopulation Density\u001b[39m\u001b[38;5;124m'\u001b[39m : population_density,\n\u001b[1;32m    145\u001b[0m             \u001b[38;5;124m'\u001b[39m\u001b[38;5;124mPopulation - 2022 estimate\u001b[39m\u001b[38;5;124m'\u001b[39m : population,\n\u001b[1;32m    146\u001b[0m             \u001b[38;5;124m'\u001b[39m\u001b[38;5;124mGDP (PPP) - total\u001b[39m\u001b[38;5;124m'\u001b[39m : GDPppp,\n\u001b[1;32m    147\u001b[0m             \u001b[38;5;124m'\u001b[39m\u001b[38;5;124mGDP (PPP) - per capita\u001b[39m\u001b[38;5;124m'\u001b[39m : GDPppp_pc,\n\u001b[1;32m    148\u001b[0m             \u001b[38;5;124m'\u001b[39m\u001b[38;5;124mGDP (nominal) - total\u001b[39m\u001b[38;5;124m'\u001b[39m : GDPnominal,\n\u001b[1;32m    149\u001b[0m             \u001b[38;5;124m'\u001b[39m\u001b[38;5;124mGDP (nominal) - per capita\u001b[39m\u001b[38;5;124m'\u001b[39m : GDPnominal_pc,\n\u001b[1;32m    150\u001b[0m             \u001b[38;5;124m'\u001b[39m\u001b[38;5;124mDate format\u001b[39m\u001b[38;5;124m'\u001b[39m : date_format, \n\u001b[1;32m    151\u001b[0m             \u001b[38;5;124m'\u001b[39m\u001b[38;5;124mGini\u001b[39m\u001b[38;5;124m'\u001b[39m : gini,\n\u001b[1;32m    152\u001b[0m             \u001b[38;5;124m'\u001b[39m\u001b[38;5;124mCountry\u001b[39m\u001b[38;5;124m'\u001b[39m: key,\n\u001b[1;32m    153\u001b[0m             \u001b[38;5;124m'\u001b[39m\u001b[38;5;124mLink\u001b[39m\u001b[38;5;124m'\u001b[39m: \u001b[38;5;124m'\u001b[39m\u001b[38;5;124mhttps://en.wikipedia.org\u001b[39m\u001b[38;5;124m'\u001b[39m \u001b[38;5;241m+\u001b[39m value,\n\u001b[1;32m    154\u001b[0m             \u001b[38;5;124m'\u001b[39m\u001b[38;5;124mDescription\u001b[39m\u001b[38;5;124m'\u001b[39m: description\n\u001b[1;32m    155\u001b[0m \n\u001b[1;32m    156\u001b[0m         }, ignore_index\u001b[38;5;241m=\u001b[39m\u001b[38;5;28;01mTrue\u001b[39;00m)\n",
      "File \u001b[0;32m/Library/Frameworks/Python.framework/Versions/3.11/lib/python3.11/site-packages/pandas/core/generic.py:5989\u001b[0m, in \u001b[0;36mNDFrame.__getattr__\u001b[0;34m(self, name)\u001b[0m\n\u001b[1;32m   5982\u001b[0m \u001b[38;5;28;01mif\u001b[39;00m (\n\u001b[1;32m   5983\u001b[0m     name \u001b[38;5;129;01mnot\u001b[39;00m \u001b[38;5;129;01min\u001b[39;00m \u001b[38;5;28mself\u001b[39m\u001b[38;5;241m.\u001b[39m_internal_names_set\n\u001b[1;32m   5984\u001b[0m     \u001b[38;5;129;01mand\u001b[39;00m name \u001b[38;5;129;01mnot\u001b[39;00m \u001b[38;5;129;01min\u001b[39;00m \u001b[38;5;28mself\u001b[39m\u001b[38;5;241m.\u001b[39m_metadata\n\u001b[1;32m   5985\u001b[0m     \u001b[38;5;129;01mand\u001b[39;00m name \u001b[38;5;129;01mnot\u001b[39;00m \u001b[38;5;129;01min\u001b[39;00m \u001b[38;5;28mself\u001b[39m\u001b[38;5;241m.\u001b[39m_accessors\n\u001b[1;32m   5986\u001b[0m     \u001b[38;5;129;01mand\u001b[39;00m \u001b[38;5;28mself\u001b[39m\u001b[38;5;241m.\u001b[39m_info_axis\u001b[38;5;241m.\u001b[39m_can_hold_identifiers_and_holds_name(name)\n\u001b[1;32m   5987\u001b[0m ):\n\u001b[1;32m   5988\u001b[0m     \u001b[38;5;28;01mreturn\u001b[39;00m \u001b[38;5;28mself\u001b[39m[name]\n\u001b[0;32m-> 5989\u001b[0m \u001b[38;5;28;01mreturn\u001b[39;00m \u001b[38;5;28;43mobject\u001b[39;49m\u001b[38;5;241;43m.\u001b[39;49m\u001b[38;5;21;43m__getattribute__\u001b[39;49m\u001b[43m(\u001b[49m\u001b[38;5;28;43mself\u001b[39;49m\u001b[43m,\u001b[49m\u001b[43m \u001b[49m\u001b[43mname\u001b[49m\u001b[43m)\u001b[49m\n",
      "\u001b[0;31mAttributeError\u001b[0m: 'DataFrame' object has no attribute 'append'"
     ]
    }
   ],
   "source": [
    "# Loop over the dictionary keys and values\n",
    "for key, value in countries.items():\n",
    "#import itertools\n",
    "\n",
    "#for key, value in itertools.islice(countries.items(), 2):\n",
    "    # Make a GET request to the website\n",
    "\n",
    "    country_request = requests.get(('https://en.wikipedia.org' + value))\n",
    "\n",
    "    website_soup = BeautifulSoup(country_request.content, 'html.parser')\n",
    "    \n",
    "    # Find the \"mw-parser-output\" class\n",
    "    mw_content_container = website_soup.find('div', class_='mw-content-container')\n",
    "    first_h2 = mw_content_container.find('h2')\n",
    "    paragraphs = []\n",
    "    sibling = first_h2.previous_sibling\n",
    "\n",
    "    while sibling is not None and sibling.name != 'h2':\n",
    "        if sibling.name == 'p':\n",
    "            paragraphs.append(sibling)\n",
    "        sibling = sibling.previous_sibling\n",
    "        \n",
    "    description = ''\n",
    "    # Extract the text content of each paragraph\n",
    "    for paragraph in reversed(paragraphs):\n",
    "        text = paragraph.text.strip()\n",
    "        description += text\n",
    "        \n",
    "# Initialize variables for all the columns you want to extract\n",
    "    status = ''\n",
    "    capital = ''\n",
    "    languages = ''\n",
    "    ethnic_groups = ''\n",
    "    religion = ''\n",
    "    demonym = ''\n",
    "    government = ''\n",
    "    hdi = ''\n",
    "    currency = ''\n",
    "    time_zone = ''\n",
    "    driving_side = ''\n",
    "    calling_code = ''\n",
    "    iso_code = ''\n",
    "    internet_tld = ''\n",
    "    total_area = ''\n",
    "    water = ''\n",
    "    population_density =''\n",
    "    population = ''\n",
    "    GDPppp = ''\n",
    "    GDPppp_pc = ''\n",
    "    GDPnominal = ''\n",
    "    GDPnominal_pc = ''\n",
    "    date_format = ''\n",
    "    gini = ''\n",
    "    \n",
    " # Find the \"mw-parser-output\" class\n",
    "    infobox_table = website_soup.find('table', class_='infobox ib-country vcard')\n",
    "\n",
    "# Find all table rows (tr) in the infobox table\n",
    "    rows = infobox_table.find_all('tr')\n",
    "    \n",
    "# Loop over each row in the info table\n",
    "    for row in infobox_table.find_all('tr'):\n",
    "        header = row.find('th', class_='infobox-label')\n",
    "        data = row.find('td', class_='infobox-data')\n",
    "        \n",
    "# Check the header and extract data for the corresponding column\n",
    "        if header and 'Status' in header.text:\n",
    "            status = data.text.strip()\n",
    "        elif header and 'Date format' in header.text:\n",
    "            date_format = data.text.strip()\n",
    "        elif header and 'Gini' in header.text:\n",
    "            gini = data.text.strip() \n",
    "        elif header and 'Water' in header.text:\n",
    "            water = data.text.strip()\n",
    "            previous_row = row.find_previous_sibling('tr')\n",
    "            previous_row_cells = previous_row.find_all(['th', 'td'])\n",
    "            total_area = previous_row_cells[1].text.strip()\n",
    "        elif header and 'Density' in header.text:\n",
    "            population_density = data.text.strip()\n",
    "            previous_row = row.find_previous_sibling('tr')\n",
    "            previous_row_cells = previous_row.find_all(['th', 'td'])\n",
    "            population = previous_row_cells[1].text.strip()   \n",
    "        elif header and 'GDP' in header.text and 'PPP' in header.text:\n",
    "            next_row = row.find_next_sibling('tr')\n",
    "            next_row_cells = next_row.find_all(['th', 'td'])\n",
    "            GDPppp = next_row_cells[1].text.strip()\n",
    "            nnext_row = next_row.find_next_sibling('tr')\n",
    "            nnext_row_cells = nnext_row.find_all(['th', 'td'])\n",
    "            GDPppp_pc = nnext_row_cells[1].text.strip()\n",
    "        elif header and 'GDP' in header.text and 'nominal' in header.text:\n",
    "            next_row = row.find_next_sibling('tr')\n",
    "            next_row_cells = next_row.find_all(['th', 'td'])\n",
    "            GDPnominal = next_row_cells[1].text.strip()\n",
    "            nnext_row = next_row.find_next_sibling('tr')\n",
    "            nnext_row_cells = nnext_row.find_all(['th', 'td'])\n",
    "            GDPnominal_pc = nnext_row_cells[1].text.strip()\n",
    "        elif header and 'Capital' in header.text:\n",
    "            capital = data.text.strip()\n",
    "        elif header and 'language' in header.text:\n",
    "            languages = data.text.strip()\n",
    "        elif header and 'Ethnic' in header.text:\n",
    "            ethnic_groups = data.text.strip()\n",
    "        elif header and 'Religion' in header.text:\n",
    "            religion = data.text.strip()\n",
    "        elif header and 'Demonym' in header.text:\n",
    "            demonym = data.text.strip()\n",
    "        elif header and 'Government' in header.text:\n",
    "            government = data.text.strip()\n",
    "        elif header and 'HDI' in header.text:\n",
    "            hdi = data.text.strip()\n",
    "        elif header and 'Currency' in header.text:\n",
    "            currency = data.text.strip()\n",
    "        elif header and 'Time' in header.text:\n",
    "            time_zone = data.text.strip()\n",
    "        elif header and 'Driving' in header.text:\n",
    "            driving_side = data.text.strip()\n",
    "        elif header and 'Calling' in header.text:\n",
    "            calling_code = data.text.strip()\n",
    "        elif header and 'ISO' in header.text:\n",
    "            iso_code = data.text.strip()\n",
    "        elif header and 'Internet' in header.text:\n",
    "            internet_tld = data.text.strip()\n",
    "\n",
    "# Append the extracted information to the dataframe\n",
    "    df = df.append({\n",
    "            'Country': key,\n",
    "            'Link': 'https://en.wikipedia.org' + value,\n",
    "            'Status': status,\n",
    "            'Capital': capital,\n",
    "            'Official languages': languages,\n",
    "            'Ethnic groups': ethnic_groups,\n",
    "            'Religion': religion,\n",
    "            'Demonym': demonym,\n",
    "            'Government': government,\n",
    "            'HDI': hdi,\n",
    "            'Currency': currency,\n",
    "            'Time zone': time_zone,\n",
    "            'Driving side': driving_side,\n",
    "            'Calling code': calling_code,\n",
    "            'ISO 3166 code': iso_code,\n",
    "            'Internet TLD': internet_tld,\n",
    "            'Total area' : total_area,\n",
    "            'Water area %' : water,\n",
    "            'Population Density' : population_density,\n",
    "            'Population - 2022 estimate' : population,\n",
    "            'GDP (PPP) - total' : GDPppp,\n",
    "            'GDP (PPP) - per capita' : GDPppp_pc,\n",
    "            'GDP (nominal) - total' : GDPnominal,\n",
    "            'GDP (nominal) - per capita' : GDPnominal_pc,\n",
    "            'Date format' : date_format, \n",
    "            'Gini' : gini,\n",
    "            'Country': key,\n",
    "            'Link': 'https://en.wikipedia.org' + value,\n",
    "            'Description': description\n",
    "\n",
    "        }, ignore_index=True)\n"
   ]
  },
  {
   "cell_type": "code",
   "execution_count": 15,
   "id": "c09fdade",
   "metadata": {},
   "outputs": [
    {
     "data": {
      "text/html": [
       "<div>\n",
       "<style scoped>\n",
       "    .dataframe tbody tr th:only-of-type {\n",
       "        vertical-align: middle;\n",
       "    }\n",
       "\n",
       "    .dataframe tbody tr th {\n",
       "        vertical-align: top;\n",
       "    }\n",
       "\n",
       "    .dataframe thead th {\n",
       "        text-align: right;\n",
       "    }\n",
       "</style>\n",
       "<table border=\"1\" class=\"dataframe\">\n",
       "  <thead>\n",
       "    <tr style=\"text-align: right;\">\n",
       "      <th></th>\n",
       "      <th>Country</th>\n",
       "      <th>Link</th>\n",
       "      <th>Description</th>\n",
       "      <th>Status</th>\n",
       "      <th>Capital</th>\n",
       "      <th>Total area</th>\n",
       "      <th>Water area %</th>\n",
       "      <th>Population Density</th>\n",
       "      <th>Population - 2022 estimate</th>\n",
       "      <th>Official languages</th>\n",
       "      <th>...</th>\n",
       "      <th>GDP (nominal) - per capita</th>\n",
       "      <th>HDI</th>\n",
       "      <th>Gini</th>\n",
       "      <th>Currency</th>\n",
       "      <th>Time zone</th>\n",
       "      <th>Date format</th>\n",
       "      <th>Driving side</th>\n",
       "      <th>Calling code</th>\n",
       "      <th>ISO code</th>\n",
       "      <th>Internet TLD</th>\n",
       "    </tr>\n",
       "  </thead>\n",
       "  <tbody>\n",
       "  </tbody>\n",
       "</table>\n",
       "<p>0 rows × 27 columns</p>\n",
       "</div>"
      ],
      "text/plain": [
       "Empty DataFrame\n",
       "Columns: [Country, Link, Description, Status, Capital, Total area, Water area %, Population Density, Population - 2022 estimate, Official languages, Ethnic groups, Religion, Demonym, Government, GDP (PPP) - total, GDP (PPP) - per capita, GDP (nominal) - total, GDP (nominal) - per capita, HDI, Gini, Currency, Time zone, Date format, Driving side, Calling code, ISO code, Internet TLD]\n",
       "Index: []\n",
       "\n",
       "[0 rows x 27 columns]"
      ]
     },
     "execution_count": 15,
     "metadata": {},
     "output_type": "execute_result"
    }
   ],
   "source": [
    "df"
   ]
  },
  {
   "cell_type": "code",
   "execution_count": 16,
   "id": "a3e14c68",
   "metadata": {},
   "outputs": [],
   "source": [
    "df.to_csv('countries_data.csv', index=False)"
   ]
  },
  {
   "cell_type": "code",
   "execution_count": 17,
   "id": "8135f0b7",
   "metadata": {},
   "outputs": [],
   "source": [
    "df.to_excel('countries.xlsx', index=False)"
   ]
  },
  {
   "cell_type": "code",
   "execution_count": null,
   "id": "f1cad5a0",
   "metadata": {},
   "outputs": [],
   "source": []
  }
 ],
 "metadata": {
  "kernelspec": {
   "display_name": "Python 3 (ipykernel)",
   "language": "python",
   "name": "python3"
  },
  "language_info": {
   "codemirror_mode": {
    "name": "ipython",
    "version": 3
   },
   "file_extension": ".py",
   "mimetype": "text/x-python",
   "name": "python",
   "nbconvert_exporter": "python",
   "pygments_lexer": "ipython3",
   "version": "3.11.2"
  }
 },
 "nbformat": 4,
 "nbformat_minor": 5
}
